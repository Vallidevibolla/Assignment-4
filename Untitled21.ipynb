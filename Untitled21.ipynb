{
  "nbformat": 4,
  "nbformat_minor": 0,
  "metadata": {
    "colab": {
      "name": "Untitled21.ipynb",
      "provenance": [],
      "authorship_tag": "ABX9TyM2G4nwmzG01a3/B6L3asfG",
      "include_colab_link": true
    },
    "kernelspec": {
      "name": "python3",
      "display_name": "Python 3"
    },
    "language_info": {
      "name": "python"
    }
  },
  "cells": [
    {
      "cell_type": "markdown",
      "metadata": {
        "id": "view-in-github",
        "colab_type": "text"
      },
      "source": [
        "<a href=\"https://colab.research.google.com/github/Vallidevibolla/Assignment-4/blob/main/Untitled21.ipynb\" target=\"_parent\"><img src=\"https://colab.research.google.com/assets/colab-badge.svg\" alt=\"Open In Colab\"/></a>"
      ]
    },
    {
      "cell_type": "code",
      "metadata": {
        "colab": {
          "base_uri": "https://localhost:8080/",
          "height": 296
        },
        "id": "MnFQpPZ2GCIt",
        "outputId": "ada0166c-4b79-4b70-e791-087164a1f7cb"
      },
      "source": [
        "\n",
        "import numpy as np\n",
        "import matplotlib.pyplot as plt\n",
        "\n",
        "\n",
        "\n",
        "#if using termux\n",
        "import subprocess\n",
        "import shlex\n",
        "#end if\n",
        "\n",
        "# import the math module \n",
        "import math \n",
        "  \n",
        "# print the square root of  0\n",
        "print(math.sqrt(0)) \n",
        "\n",
        "#Inputs\n",
        "n = np.array([1,-2]) \n",
        "c = 4\n",
        "\n",
        "e1 = np.array([0,2]) \n",
        "e2 = np.array([4,0]) \n",
        "e3 = np.array([2,0]) \n",
        "e4 = np.array([2,4]) \n",
        "e5 = np.array([1,0]) \n",
        "\n",
        "A = c*e1/(n@e1)\n",
        "B = c*e2/(n@e2)\n",
        "C = c*e3/(n@e3)\n",
        "D = c*e4/(n@e4)\n",
        "E = c*e5/(n@e5)\n",
        "\n",
        "\n",
        "def line_gen(A,B):\n",
        "  len =10\n",
        "  dim = A.shape[0]\n",
        "  x_AB = np.zeros((dim,len))\n",
        "  lam_1 = np.linspace(0,1,len)\n",
        "  for i in range(len):\n",
        "    temp1 = A + lam_1[i]*(B-A)\n",
        "    x_AB[:,i]= temp1.T\n",
        "  return x_AB\n",
        "\n",
        "#Generating all lines\n",
        "x_AB = line_gen(A,B)\n",
        "\n",
        "#Plotting all lines\n",
        "plt.plot(x_AB[0,:],x_AB[1,:],label='$AB$')\n",
        "\n",
        "plt.plot(A[0], A[1], 'o')\n",
        "plt.text(A[0] * (1 + 0.1), A[1] * (1 - 0.1) , 'A')\n",
        "plt.plot(B[0], B[1], 'o')\n",
        "plt.text(B[0] * (1 - 0.2), B[1] * (1) , 'B')\n",
        "\n",
        "plt.xlabel('$x$')\n",
        "plt.ylabel('$y$')\n",
        "plt.legend(loc='best')\n",
        "plt.grid() # minor\n",
        "plt.axis('equal')\n",
        "\n",
        "plt.show()"
      ],
      "execution_count": 10,
      "outputs": [
        {
          "output_type": "stream",
          "text": [
            "0.0\n"
          ],
          "name": "stdout"
        },
        {
          "output_type": "display_data",
          "data": {
            "image/png": "[encoded data removed]",
            "text/plain": [
              "<Figure size 432x288 with 1 Axes>"
            ]
          },
          "metadata": {
            "needs_background": "light"
          }
        }
      ]
    }
  ]
}