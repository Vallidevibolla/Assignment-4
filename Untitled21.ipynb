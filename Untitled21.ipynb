{
  "nbformat": 4,
  "nbformat_minor": 0,
  "metadata": {
    "colab": {
      "name": "Untitled21.ipynb",
      "provenance": [],
      "authorship_tag": "ABX9TyO69mMyf928ZVH9lXKHx0qx",
      "include_colab_link": true
    },
    "kernelspec": {
      "display_name": "Python 3",
      "name": "python3"
    },
    "language_info": {
      "name": "python"
    }
  },
  "cells": [
    {
      "cell_type": "markdown",
      "metadata": {
        "id": "view-in-github",
        "colab_type": "text"
      },
      "source": [
        "<a href=\"https://colab.research.google.com/github/Vallidevibolla/Assignment-4/blob/main/Untitled21.ipynb\" target=\"_parent\"><img src=\"https://colab.research.google.com/assets/colab-badge.svg\" alt=\"Open In Colab\"/></a>"
      ]
    },
    {
      "cell_type": "code",
      "metadata": {
        "colab": {
          "base_uri": "https://localhost:8080/",
          "height": 551
        },
        "id": "1hSKI_lOgk9B",
        "outputId": "3ae275d8-647a-41e2-f3a9-aaf777052f7c"
      },
      "source": [
        "import numpy as np\n",
        "import matplotlib.pyplot as plt\n",
        "\n",
        "\n",
        "plt.axis([-4,6,-4,6])\n",
        "\n",
        "plt.axis('on')\n",
        "\n",
        "#if using termux\n",
        "import subprocess\n",
        "import shlex\n",
        "#end if\n",
        "\n",
        "# import the math module \n",
        "import math \n",
        "  \n",
        "# print the square root of 0\n",
        "print(math.sqrt(0)) \n",
        "\n",
        "\n",
        "#Inputs\n",
        "n = np.array([1,-2]) \n",
        "c = 4\n",
        "\n",
        "A = np.array([0,2]) \n",
        "B = np.array([4,0]) \n",
        "C = np.array([2,0]) \n",
        "D = np.array([np.sqrt(2),4*np.sqrt(2)]) \n",
        "E = np.array([1,1]) \n",
        "\n",
        "\n",
        "\n",
        "\n",
        "def line_gen(A,B):\n",
        "  len =10\n",
        "  dim = A.shape[0]\n",
        "  x_AB = np.zeros((dim,len))\n",
        "  lam_1 = np.linspace(0,1,len)\n",
        "  for i in range(len):\n",
        "    temp1 = A + lam_1[i]*(B-A)\n",
        "    x_AB[:,i]= temp1.T\n",
        "  return x_AB\n",
        "\n",
        "\n",
        "\n",
        "#Plotting all lines\n",
        "plt.plot(x_AB[0,:],x_AB[1,:],label='$AB$')\n",
        "\n",
        "\n",
        "\n",
        "\n",
        "plt.xlabel('$x-axis$')\n",
        "plt.ylabel('$y-axis$')\n",
        "\n",
        "\n",
        "plt.text(0,2, 'A(0,2)')\n",
        "plt.text(4,0, 'B(4,0)')\n",
        "plt.text(2,0, 'C(2,0)')\n",
        "plt.text(1.4,5.65, 'D(1.4,5.65)')\n",
        "plt.text(1,1, 'E(1,1)')\n",
        "plt.legend(loc='best')\n",
        "plt.grid() # minor\n",
        "plt.axis('equal')\n",
        "\n",
        "plt.show()\n"
      ],
      "execution_count": null,
      "outputs": [
        {
          "output_type": "stream",
          "text": [
            "0.0\n"
          ],
          "name": "stdout"
        },
        {
          "output_type": "display_data",
          "data": {
            "image/png": "[encoded data removed]",
            "text/plain": [
              "<Figure size 432x288 with 1 Axes>"
            ]
          },
          "metadata": {
            "needs_background": "light"
          }
        }
      ]
    }
  ]
}