{
  "nbformat": 4,
  "nbformat_minor": 0,
  "metadata": {
    "colab": {
      "name": "Untitled21.ipynb",
      "provenance": [],
      "authorship_tag": "ABX9TyM46uGyLkQfmpa+1+i97mzP",
      "include_colab_link": true
    },
    "kernelspec": {
      "display_name": "Python 3",
      "name": "python3"
    },
    "language_info": {
      "name": "python"
    }
  },
  "cells": [
    {
      "cell_type": "markdown",
      "metadata": {
        "id": "view-in-github",
        "colab_type": "text"
      },
      "source": [
        "<a href=\"https://colab.research.google.com/github/Vallidevibolla/Assignment-4/blob/main/Untitled21.ipynb\" target=\"_parent\"><img src=\"https://colab.research.google.com/assets/colab-badge.svg\" alt=\"Open In Colab\"/></a>"
      ]
    },
    {
      "cell_type": "code",
      "metadata": {
        "id": "1hSKI_lOgk9B",
        "colab": {
          "base_uri": "https://localhost:8080/",
          "height": 298
        },
        "outputId": "3f41e747-c4ab-4bbc-e821-97e4f6910ff7"
      },
      "source": [
        "import numpy as np\n",
        "import matplotlib.pyplot as plt\n",
        "\n",
        "\n",
        "plt.axis([0,4,0,6])\n",
        "\n",
        "plt.axis('on')\n",
        "\n",
        "#if using termux\n",
        "import subprocess\n",
        "import shlex\n",
        "#end if\n",
        "\n",
        "# import the math module \n",
        "import math \n",
        "  \n",
        "# print the square root of 0\n",
        "print(math.sqrt(0)) \n",
        "\n",
        "\n",
        "#Inputs\n",
        "n = np.array([1,-2]) \n",
        "c = 4\n",
        "\n",
        "A = np.array([0,2]) \n",
        "B = np.array([4,0]) \n",
        "C = np.array([2,0]) \n",
        "D = np.array([1.4,5.65]) \n",
        "E = np.array([1,1]) \n",
        "\n",
        "\n",
        "\n",
        "\n",
        "def line_gen(A,B):\n",
        "  len =10\n",
        "  dim = A.shape[0]\n",
        "  x_AB = np.zeros((dim,len))\n",
        "  lam_1 = np.linspace(0,1,len)\n",
        "  for i in range(len):\n",
        "    temp1 = A + lam_1[i]*(B-A)\n",
        "    x_AB[:,i]= temp1.T\n",
        "  return x_AB\n",
        "\n",
        "#Generating all lines\n",
        "x_AB = line_gen(A,B)\n",
        "\n",
        "#Plotting all lines\n",
        "plt.plot(x_AB[0,:],x_AB[1,:],label='$AB$')\n",
        "plt.plot(0,2,'o')\n",
        "plt.plot(4,0,'o')\n",
        "plt.plot(2,0,'o')\n",
        "plt.plot(1.4,5.65,'o')\n",
        "plt.plot(1,1,'o')\n",
        "\n",
        "\n",
        "\n",
        "plt.xlabel('$x-axis$')\n",
        "plt.ylabel('$y-axis$')\n",
        "\n",
        "\n",
        "plt.text(0,2, 'A(0,2)')\n",
        "plt.text(4,0, 'B(4,0)')\n",
        "plt.text(2,0, 'C(2,0)')\n",
        "plt.text(1.4,5.65, 'D(1.4,5.65)')\n",
        "plt.text(1,1, 'E(1,1)')\n",
        "plt.legend(loc='best')\n",
        "plt.grid() # minor\n",
        "plt.axis('equal')\n",
        "\n",
        "plt.show()\n"
      ],
      "execution_count": 10,
      "outputs": [
        {
          "output_type": "stream",
          "text": [
            "0.0\n"
          ],
          "name": "stdout"
        },
        {
          "output_type": "display_data",
          "data": {
            "image/png": "[encoded data removed]",
            "text/plain": [
              "<Figure size 432x288 with 1 Axes>"
            ]
          },
          "metadata": {
            "needs_background": "light"
          }
        }
      ]
    }
  ]
}